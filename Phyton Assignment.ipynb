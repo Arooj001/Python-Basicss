{
 "cells": [
  {
   "cell_type": "markdown",
   "id": "d1e27f1d",
   "metadata": {},
   "source": [
    "***Variables and Data Types***"
   ]
  },
  {
   "cell_type": "markdown",
   "id": "b81cea7d",
   "metadata": {},
   "source": [
    "***Question # 1. Create three variables: one for storing your age (integer), one for your name (string), and one to check if you are a student (Boolean). Print the variables.***"
   ]
  },
  {
   "cell_type": "code",
   "execution_count": 1,
   "id": "c879f939",
   "metadata": {},
   "outputs": [
    {
     "name": "stdout",
     "output_type": "stream",
     "text": [
      "Name: Arooj\n",
      "Age: 30\n",
      "I am a Student: True\n"
     ]
    }
   ],
   "source": [
    "Age = 30\n",
    "Name = \"Arooj\"\n",
    "Student = True  \n",
    "print(\"Name:\", Name)\n",
    "print(\"Age:\", Age)\n",
    "print(\"I am a Student:\", Student)"
   ]
  },
  {
   "cell_type": "markdown",
   "id": "abf4e5fc",
   "metadata": {},
   "source": [
    "***Question # 2. Perform the following operations and print the results:***\n",
    "***Add 25 to your age variable.***\n",
    "***Concatenate your name with the string &quot;Smith.&quot;***\n",
    "***Negate the Boolean variable (if True, make it False, and vice versa).***"
   ]
  },
  {
   "cell_type": "code",
   "execution_count": 2,
   "id": "7ce46dd3",
   "metadata": {},
   "outputs": [
    {
     "name": "stdout",
     "output_type": "stream",
     "text": [
      "Updated Age: 55\n",
      "Updated Name: John Smith\n",
      "Updated I am a Student: False\n"
     ]
    }
   ],
   "source": [
    "Age = 30\n",
    "Name = \"John\"\n",
    "Student = True \n",
    "Age += 25\n",
    "Name += \" Smith\"\n",
    "Student = not Student\n",
    "print(\"Updated Age:\", Age)\n",
    "print(\"Updated Name:\", Name)\n",
    "print(\"Updated I am a Student:\", Student)"
   ]
  },
  {
   "cell_type": "markdown",
   "id": "2f2c9495",
   "metadata": {},
   "source": [
    "***Question # 3. A rectangle has a width of 5.5 units and a height of 3.25 units. Store width and height in variables.\n",
    "Create a new variable called area and write an expression to calculate the area. Print the area in the output***"
   ]
  },
  {
   "cell_type": "code",
   "execution_count": 3,
   "id": "7a5a909a",
   "metadata": {},
   "outputs": [
    {
     "name": "stdout",
     "output_type": "stream",
     "text": [
      "The area of the rectangle is: 17.875 square units\n"
     ]
    }
   ],
   "source": [
    "width = 5.5\n",
    "height = 3.25\n",
    "area = width * height\n",
    "print(\"The area of the rectangle is:\", area, \"square units\")"
   ]
  },
  {
   "cell_type": "markdown",
   "id": "f95279f9",
   "metadata": {},
   "source": [
    "***Question # 4. Create a temperature variable in Celsius. Convert it to Fahrenheit using the formula: F = (C * 9/5) + 32. Store this temperature in a variable called Fahrenheit and print this variable.***"
   ]
  },
  {
   "cell_type": "code",
   "execution_count": 4,
   "id": "114aa53d",
   "metadata": {},
   "outputs": [
    {
     "name": "stdout",
     "output_type": "stream",
     "text": [
      "Temperature in Fahrenheit: 77.0 °F\n"
     ]
    }
   ],
   "source": [
    "celsius = 25\n",
    "fahrenheit = (celsius * 9/5) + 32\n",
    "print(\"Temperature in Fahrenheit:\", fahrenheit, \"°F\")"
   ]
  },
  {
   "cell_type": "markdown",
   "id": "fbcbe0b1",
   "metadata": {},
   "source": [
    "***Question # 5. Create a variable called radius and give it a value of 5. Calculate the area of a circle with this radius and store it in a variable called area. Print area at the end of your code. (Use the formula: area = π * radius^2, where π (pi) is approximately 3.14159).***"
   ]
  },
  {
   "cell_type": "code",
   "execution_count": 5,
   "id": "b97b4354",
   "metadata": {},
   "outputs": [
    {
     "name": "stdout",
     "output_type": "stream",
     "text": [
      "The area of the circle is: 78.53975\n"
     ]
    }
   ],
   "source": [
    "radius = 5\n",
    "pi = 3.14159\n",
    "area = pi * (radius ** 2)\n",
    "print(\"The area of the circle is:\", area)"
   ]
  },
  {
   "cell_type": "markdown",
   "id": "cce650b6",
   "metadata": {},
   "source": [
    "***Question # 6. Create a list called &quot;fruits&quot; containing the following fruits: &quot;apple,&quot; &quot;banana,&quot; &quot;orange,&quot; &quot;grape,&quot; and &quot;kiwi.&quot; Print the list.***"
   ]
  },
  {
   "cell_type": "code",
   "execution_count": 6,
   "id": "e3151d5c",
   "metadata": {},
   "outputs": [
    {
     "name": "stdout",
     "output_type": "stream",
     "text": [
      "List of Fruits: ['apple', 'banana', 'orange', 'grape', 'kiwi']\n"
     ]
    }
   ],
   "source": [
    "fruits = [\"apple\", \"banana\", \"orange\", \"grape\", \"kiwi\"]\n",
    "print(\"List of Fruits:\", fruits)"
   ]
  },
  {
   "cell_type": "markdown",
   "id": "13afd671",
   "metadata": {},
   "source": [
    "***Question # 7. Create a tuple named &quot;months&quot; with the names of the first three months of the year. Print the tuple.***"
   ]
  },
  {
   "cell_type": "code",
   "execution_count": 7,
   "id": "163e912d",
   "metadata": {},
   "outputs": [
    {
     "name": "stdout",
     "output_type": "stream",
     "text": [
      "Tuple of Months: ('January', 'February', 'March')\n"
     ]
    }
   ],
   "source": [
    "months = (\"January\", \"February\", \"March\")\n",
    "print(\"Tuple of Months:\", months)"
   ]
  },
  {
   "cell_type": "markdown",
   "id": "88279800",
   "metadata": {},
   "source": [
    "***Question # 8. Given the list of numbers below, write a Python program to calculate the sum and average of these numbers. Print both results. numbers = [12, 34, 45, 67, 89, 100, 23, 56]***"
   ]
  },
  {
   "cell_type": "code",
   "execution_count": 8,
   "id": "2357dd0d",
   "metadata": {},
   "outputs": [
    {
     "name": "stdout",
     "output_type": "stream",
     "text": [
      "Sum of the Numbers: 426\n",
      "Average of the Numbers: 53.25\n"
     ]
    }
   ],
   "source": [
    "Numbers = [12, 34, 45, 67, 89, 100, 23, 56]\n",
    "Sum = sum(Numbers)\n",
    "Average = Sum / len(Numbers)\n",
    "print(\"Sum of the Numbers:\", Sum)\n",
    "print(\"Average of the Numbers:\", Average)"
   ]
  },
  {
   "cell_type": "markdown",
   "id": "12f46ac5",
   "metadata": {},
   "source": [
    "***Question # 9. Remove the first and last elements from the &quot;fruits&quot; list created earlier. Print the updated list***"
   ]
  },
  {
   "cell_type": "code",
   "execution_count": 9,
   "id": "9eb8fb42",
   "metadata": {},
   "outputs": [
    {
     "name": "stdout",
     "output_type": "stream",
     "text": [
      "Updated List of Fruits: ['banana', 'orange', 'grape']\n"
     ]
    }
   ],
   "source": [
    "fruits = [\"apple\", \"banana\", \"orange\", \"grape\", \"kiwi\"]\n",
    "fruits = fruits[1:-1]\n",
    "print(\"Updated List of Fruits:\", fruits)"
   ]
  },
  {
   "cell_type": "markdown",
   "id": "4f5306c2",
   "metadata": {},
   "source": [
    "***Question # 10. Create a dictionary named &quot;capitals&quot; with three key-value pairs: &quot;USA&quot; - &quot;Washington D.C.,&quot;&quot;France&quot; - &quot;Paris,&quot; and &quot;Japan&quot; - &quot;Tokyo.&quot; Print the dictionary***"
   ]
  },
  {
   "cell_type": "code",
   "execution_count": 10,
   "id": "9bda61ed",
   "metadata": {},
   "outputs": [
    {
     "name": "stdout",
     "output_type": "stream",
     "text": [
      "Dictionary of Capitals: {'USA': 'Washington D.C.', 'France': 'Paris', 'Japan': 'Tokyo'}\n"
     ]
    }
   ],
   "source": [
    "capitals = {\n",
    "    \"USA\": \"Washington D.C.\",\n",
    "    \"France\": \"Paris\",\n",
    "    \"Japan\": \"Tokyo\"\n",
    "}\n",
    "print(\"Dictionary of Capitals:\", capitals)"
   ]
  },
  {
   "cell_type": "markdown",
   "id": "1ea549eb",
   "metadata": {},
   "source": [
    "***Question # 11. Add a new country and its capital to the &quot;capitals&quot; dictionary. The country is &quot;Germany,&quot; and the capital is &quot;Berlin.&quot; Print the updated dictionary.***"
   ]
  },
  {
   "cell_type": "code",
   "execution_count": 11,
   "id": "c6e62701",
   "metadata": {},
   "outputs": [
    {
     "name": "stdout",
     "output_type": "stream",
     "text": [
      "Updated Dictionary of Capitals: {'USA': 'Washington D.C.', 'France': 'Paris', 'Japan': 'Tokyo', 'Germany': 'Berlin'}\n"
     ]
    }
   ],
   "source": [
    "capitals = {\n",
    "    \"USA\": \"Washington D.C.\",\n",
    "    \"France\": \"Paris\",\n",
    "    \"Japan\": \"Tokyo\"\n",
    "}\n",
    "capitals[\"Germany\"] = \"Berlin\"\n",
    "print(\"Updated Dictionary of Capitals:\", capitals)"
   ]
  },
  {
   "cell_type": "markdown",
   "id": "56442541",
   "metadata": {},
   "source": [
    "***Question # 12. Check if &quot;France&quot; exists in the &quot;capitals&quot; dictionary. If it does, print &quot;France is in the dictionary,&quot; otherwise, print &quot;France is not in the dictionary.&quot; (at the end of the lab notebook for session 1, I have added an example of how to use “in” in python).***"
   ]
  },
  {
   "cell_type": "code",
   "execution_count": 12,
   "id": "61e58b94",
   "metadata": {},
   "outputs": [
    {
     "name": "stdout",
     "output_type": "stream",
     "text": [
      "France is in the dictionary.\n"
     ]
    }
   ],
   "source": [
    "capitals = {\n",
    "    \"USA\": \"Washington D.C.\",\n",
    "    \"France\": \"Paris\",\n",
    "    \"Japan\": \"Tokyo\"\n",
    "}\n",
    "if \"France\" in capitals:\n",
    "    print(\"France is in the dictionary.\")\n",
    "else:\n",
    "    print(\"France is not in the dictionary.\")"
   ]
  },
  {
   "cell_type": "markdown",
   "id": "bbdedb1e",
   "metadata": {},
   "source": [
    "***Question # 13. Create a variable called number that takes user input (we studied the input() function). Next, write a block of code that checks if the number is even or odd.***"
   ]
  },
  {
   "cell_type": "code",
   "execution_count": 13,
   "id": "2da5ff49",
   "metadata": {},
   "outputs": [
    {
     "name": "stdout",
     "output_type": "stream",
     "text": [
      "Enter a number: 7\n",
      "7 is an odd number.\n"
     ]
    }
   ],
   "source": [
    "number = int(input(\"Enter a number: \"))\n",
    "if number % 5 == 0:\n",
    "    print(f\"{number} is an even number.\")\n",
    "else:\n",
    "    print(f\"{number} is an odd number.\")"
   ]
  },
  {
   "cell_type": "markdown",
   "id": "701f0a5b",
   "metadata": {},
   "source": [
    "***Question # 14. Create two variables called age and GPA. Give them values of your choice. Next, write a block of code to check if a student with this age and GPA is eligible for admission. The following are the conditions: The student must be at least 18 years old. The student&#39;s GPA must be 3.0 or higher on a scale of 4.0. Your output should print “Eligible for admission” or “Not eligible for admission”.***"
   ]
  },
  {
   "cell_type": "code",
   "execution_count": 14,
   "id": "524f86de",
   "metadata": {},
   "outputs": [
    {
     "name": "stdout",
     "output_type": "stream",
     "text": [
      "Eligible for admission\n"
     ]
    }
   ],
   "source": [
    "Age = 20\n",
    "GPA = 3.5\n",
    "if Age >= 18 and GPA >= 3.0:\n",
    "    print(\"Eligible for admission\")\n",
    "else:\n",
    "    print(\"Not eligible for admission\")"
   ]
  },
  {
   "cell_type": "markdown",
   "id": "1f61b192",
   "metadata": {},
   "source": [
    "***Question # 15. Create a set named &quot;fruits_set&quot; containing the following fruits: &quot;apple,&quot; &quot;banana,&quot; &quot;orange,&quot; &quot;grape,&quot; and &quot;kiwi.&quot; Print the set.***"
   ]
  },
  {
   "cell_type": "code",
   "execution_count": 15,
   "id": "ea98fadc",
   "metadata": {},
   "outputs": [
    {
     "name": "stdout",
     "output_type": "stream",
     "text": [
      "Set of Fruits: {'kiwi', 'apple', 'banana', 'orange', 'grape'}\n"
     ]
    }
   ],
   "source": [
    "fruits_set = {\"apple\", \"banana\", \"orange\", \"grape\", \"kiwi\"}\n",
    "print(\"Set of Fruits:\", fruits_set)"
   ]
  },
  {
   "cell_type": "markdown",
   "id": "27530074",
   "metadata": {},
   "source": [
    "***Question # 16. Given two sets: set1 = {1, 2, 3, 4, 5} set2 = {3, 4, 5, 6, 7}. Write Python code to perform the following operations and print the results: Union of set1 and set2. Intersection of set1 and set2. Difference between set1 and set2. Check if set1 is a subset of set2.***"
   ]
  },
  {
   "cell_type": "code",
   "execution_count": 16,
   "id": "c71cb866",
   "metadata": {},
   "outputs": [
    {
     "name": "stdout",
     "output_type": "stream",
     "text": [
      "Union of set1 and set2: {1, 2, 3, 4, 5, 6, 7}\n",
      "Intersection of set1 and set2: {3, 4, 5}\n",
      "Difference between set1 and set2: {1, 2}\n",
      "Is set1 a subset of set2? False\n"
     ]
    }
   ],
   "source": [
    "set1 = {1, 2, 3, 4, 5}\n",
    "set2 = {3, 4, 5, 6, 7}\n",
    "union_result = set1.union(set2)\n",
    "intersection_result = set1.intersection(set2)\n",
    "difference_result = set1.difference(set2)\n",
    "is_subset = set1.issubset(set2)\n",
    "print(\"Union of set1 and set2:\", union_result)\n",
    "print(\"Intersection of set1 and set2:\", intersection_result)\n",
    "print(\"Difference between set1 and set2:\", difference_result)\n",
    "print(\"Is set1 a subset of set2?\", is_subset)"
   ]
  },
  {
   "cell_type": "markdown",
   "id": "9f993214",
   "metadata": {},
   "source": [
    "***Question # 17. Create a string variable containing the following sentence: &quot;Python programming is fun and powerful!&quot; Write Python code to do the following and print the results: Find the length of the string. Convert the string to uppercase. Replace &quot;fun&quot; with &quot;exciting.&quot; Check if the string contains the word &quot;Python.&quot; Split the string into a list of words.***"
   ]
  },
  {
   "cell_type": "code",
   "execution_count": 17,
   "id": "11173f3a",
   "metadata": {},
   "outputs": [
    {
     "name": "stdout",
     "output_type": "stream",
     "text": [
      "Length of the string: 39\n",
      "Uppercase string: PYTHON PROGRAMMING IS FUN AND POWERFUL!\n",
      "String with 'fun' replaced: Python programming is exciting and powerful!\n",
      "Does the string contain 'Python'? True\n",
      "List of words: ['Python', 'programming', 'is', 'fun', 'and', 'powerful!']\n"
     ]
    }
   ],
   "source": [
    "# \n",
    "\n",
    "\n",
    "sentence = \"Python programming is fun and powerful!\"\n",
    "length = len(sentence)\n",
    "uppercase_sentence = sentence.upper()\n",
    "replaced_sentence = sentence.replace(\"fun\", \"exciting\")\n",
    "contains_python = \"Python\" in sentence\n",
    "word_list = sentence.split()\n",
    "\n",
    "print(\"Length of the string:\", length)\n",
    "print(\"Uppercase string:\", uppercase_sentence)\n",
    "print(\"String with 'fun' replaced:\", replaced_sentence)\n",
    "print(\"Does the string contain 'Python'?\", contains_python)\n",
    "print(\"List of words:\", word_list)"
   ]
  }
 ],
 "metadata": {
  "kernelspec": {
   "display_name": "Python 3 (ipykernel)",
   "language": "python",
   "name": "python3"
  },
  "language_info": {
   "codemirror_mode": {
    "name": "ipython",
    "version": 3
   },
   "file_extension": ".py",
   "mimetype": "text/x-python",
   "name": "python",
   "nbconvert_exporter": "python",
   "pygments_lexer": "ipython3",
   "version": "3.11.5"
  }
 },
 "nbformat": 4,
 "nbformat_minor": 5
}
